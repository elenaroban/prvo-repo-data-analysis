{
 "cells": [
  {
   "cell_type": "code",
   "execution_count": 1,
   "metadata": {},
   "outputs": [],
   "source": [
    "import pandas as pd\n",
    "from functions import count_data_keyword\n"
   ]
  },
  {
   "cell_type": "code",
   "execution_count": 2,
   "metadata": {},
   "outputs": [
    {
     "data": {
      "text/html": [
       "<div>\n",
       "<style scoped>\n",
       "    .dataframe tbody tr th:only-of-type {\n",
       "        vertical-align: middle;\n",
       "    }\n",
       "\n",
       "    .dataframe tbody tr th {\n",
       "        vertical-align: top;\n",
       "    }\n",
       "\n",
       "    .dataframe thead th {\n",
       "        text-align: right;\n",
       "    }\n",
       "</style>\n",
       "<table border=\"1\" class=\"dataframe\">\n",
       "  <thead>\n",
       "    <tr style=\"text-align: right;\">\n",
       "      <th></th>\n",
       "      <th>Name</th>\n",
       "      <th>Email</th>\n",
       "      <th>Job Title</th>\n",
       "      <th>LinkedIn Description</th>\n",
       "    </tr>\n",
       "  </thead>\n",
       "  <tbody>\n",
       "    <tr>\n",
       "      <th>0</th>\n",
       "      <td>Catherine Green</td>\n",
       "      <td>catherine.g@example.com</td>\n",
       "      <td>Consultant</td>\n",
       "      <td>Skilled data analyst with expertise in data vi...</td>\n",
       "    </tr>\n",
       "    <tr>\n",
       "      <th>1</th>\n",
       "      <td>David Brown</td>\n",
       "      <td>ivy.l@example.com</td>\n",
       "      <td>Software Developer</td>\n",
       "      <td>Product manager with a knack for data-driven d...</td>\n",
       "    </tr>\n",
       "    <tr>\n",
       "      <th>2</th>\n",
       "      <td>Henry Clark</td>\n",
       "      <td>jack.w@example.com</td>\n",
       "      <td>Product Manager</td>\n",
       "      <td>Data engineer with a strong understanding of d...</td>\n",
       "    </tr>\n",
       "    <tr>\n",
       "      <th>3</th>\n",
       "      <td>Henry Clark</td>\n",
       "      <td>grace.l@example.com</td>\n",
       "      <td>Data Analyst</td>\n",
       "      <td>Business analyst with experience in data analy...</td>\n",
       "    </tr>\n",
       "    <tr>\n",
       "      <th>4</th>\n",
       "      <td>Bob Smith</td>\n",
       "      <td>jack.w@example.com</td>\n",
       "      <td>Data Analyst</td>\n",
       "      <td>Business analyst with experience in data analy...</td>\n",
       "    </tr>\n",
       "  </tbody>\n",
       "</table>\n",
       "</div>"
      ],
      "text/plain": [
       "              Name                    Email           Job Title  \\\n",
       "0  Catherine Green  catherine.g@example.com          Consultant   \n",
       "1      David Brown        ivy.l@example.com  Software Developer   \n",
       "2      Henry Clark       jack.w@example.com     Product Manager   \n",
       "3      Henry Clark      grace.l@example.com        Data Analyst   \n",
       "4        Bob Smith       jack.w@example.com        Data Analyst   \n",
       "\n",
       "                                LinkedIn Description  \n",
       "0  Skilled data analyst with expertise in data vi...  \n",
       "1  Product manager with a knack for data-driven d...  \n",
       "2  Data engineer with a strong understanding of d...  \n",
       "3  Business analyst with experience in data analy...  \n",
       "4  Business analyst with experience in data analy...  "
      ]
     },
     "execution_count": 2,
     "metadata": {},
     "output_type": "execute_result"
    }
   ],
   "source": [
    "df_profiles = pd.read_csv('LinkedIn_Data_Analysis.csv')\n",
    "df_profiles.head()"
   ]
  },
  {
   "cell_type": "code",
   "execution_count": 3,
   "metadata": {},
   "outputs": [],
   "source": [
    "df_profiles['count of data'] = df_profiles['LinkedIn Description'].apply(count_data_keyword)"
   ]
  },
  {
   "cell_type": "code",
   "execution_count": 4,
   "metadata": {},
   "outputs": [
    {
     "data": {
      "text/html": [
       "<div>\n",
       "<style scoped>\n",
       "    .dataframe tbody tr th:only-of-type {\n",
       "        vertical-align: middle;\n",
       "    }\n",
       "\n",
       "    .dataframe tbody tr th {\n",
       "        vertical-align: top;\n",
       "    }\n",
       "\n",
       "    .dataframe thead th {\n",
       "        text-align: right;\n",
       "    }\n",
       "</style>\n",
       "<table border=\"1\" class=\"dataframe\">\n",
       "  <thead>\n",
       "    <tr style=\"text-align: right;\">\n",
       "      <th></th>\n",
       "      <th>Name</th>\n",
       "      <th>Email</th>\n",
       "      <th>Job Title</th>\n",
       "      <th>LinkedIn Description</th>\n",
       "      <th>count of data</th>\n",
       "    </tr>\n",
       "  </thead>\n",
       "  <tbody>\n",
       "    <tr>\n",
       "      <th>0</th>\n",
       "      <td>Catherine Green</td>\n",
       "      <td>catherine.g@example.com</td>\n",
       "      <td>Consultant</td>\n",
       "      <td>Skilled data analyst with expertise in data vi...</td>\n",
       "      <td>3</td>\n",
       "    </tr>\n",
       "    <tr>\n",
       "      <th>1</th>\n",
       "      <td>David Brown</td>\n",
       "      <td>ivy.l@example.com</td>\n",
       "      <td>Software Developer</td>\n",
       "      <td>Product manager with a knack for data-driven d...</td>\n",
       "      <td>1</td>\n",
       "    </tr>\n",
       "    <tr>\n",
       "      <th>2</th>\n",
       "      <td>Henry Clark</td>\n",
       "      <td>jack.w@example.com</td>\n",
       "      <td>Product Manager</td>\n",
       "      <td>Data engineer with a strong understanding of d...</td>\n",
       "      <td>3</td>\n",
       "    </tr>\n",
       "    <tr>\n",
       "      <th>3</th>\n",
       "      <td>Henry Clark</td>\n",
       "      <td>grace.l@example.com</td>\n",
       "      <td>Data Analyst</td>\n",
       "      <td>Business analyst with experience in data analy...</td>\n",
       "      <td>1</td>\n",
       "    </tr>\n",
       "    <tr>\n",
       "      <th>4</th>\n",
       "      <td>Bob Smith</td>\n",
       "      <td>jack.w@example.com</td>\n",
       "      <td>Data Analyst</td>\n",
       "      <td>Business analyst with experience in data analy...</td>\n",
       "      <td>1</td>\n",
       "    </tr>\n",
       "  </tbody>\n",
       "</table>\n",
       "</div>"
      ],
      "text/plain": [
       "              Name                    Email           Job Title  \\\n",
       "0  Catherine Green  catherine.g@example.com          Consultant   \n",
       "1      David Brown        ivy.l@example.com  Software Developer   \n",
       "2      Henry Clark       jack.w@example.com     Product Manager   \n",
       "3      Henry Clark      grace.l@example.com        Data Analyst   \n",
       "4        Bob Smith       jack.w@example.com        Data Analyst   \n",
       "\n",
       "                                LinkedIn Description  count of data  \n",
       "0  Skilled data analyst with expertise in data vi...              3  \n",
       "1  Product manager with a knack for data-driven d...              1  \n",
       "2  Data engineer with a strong understanding of d...              3  \n",
       "3  Business analyst with experience in data analy...              1  \n",
       "4  Business analyst with experience in data analy...              1  "
      ]
     },
     "execution_count": 4,
     "metadata": {},
     "output_type": "execute_result"
    }
   ],
   "source": [
    "df_profiles.head()"
   ]
  },
  {
   "cell_type": "code",
   "execution_count": null,
   "metadata": {},
   "outputs": [],
   "source": []
  }
 ],
 "metadata": {
  "kernelspec": {
   "display_name": "Python 3",
   "language": "python",
   "name": "python3"
  },
  "language_info": {
   "codemirror_mode": {
    "name": "ipython",
    "version": 3
   },
   "file_extension": ".py",
   "mimetype": "text/x-python",
   "name": "python",
   "nbconvert_exporter": "python",
   "pygments_lexer": "ipython3",
   "version": "3.12.2"
  }
 },
 "nbformat": 4,
 "nbformat_minor": 2
}
