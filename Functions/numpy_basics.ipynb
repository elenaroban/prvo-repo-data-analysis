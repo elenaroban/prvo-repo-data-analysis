{
 "cells": [
  {
   "cell_type": "code",
   "execution_count": 1,
   "metadata": {},
   "outputs": [],
   "source": [
    "import numpy as np"
   ]
  },
  {
   "cell_type": "code",
   "execution_count": null,
   "metadata": {},
   "outputs": [
    {
     "data": {
      "text/plain": [
       "list"
      ]
     },
     "execution_count": 5,
     "metadata": {},
     "output_type": "execute_result"
    }
   ],
   "source": [
    "lista = [1,2,3,4,5,6,7,8,9,10]\n",
    "type(lista)"
   ]
  },
  {
   "cell_type": "code",
   "execution_count": null,
   "metadata": {},
   "outputs": [
    {
     "data": {
      "text/plain": [
       "array([ 1,  2,  3,  4,  5,  6,  7,  8,  9, 10])"
      ]
     },
     "execution_count": 7,
     "metadata": {},
     "output_type": "execute_result"
    }
   ],
   "source": [
    "np_arr = np.array(lista)\n",
    "np_arr"
   ]
  },
  {
   "cell_type": "code",
   "execution_count": null,
   "metadata": {},
   "outputs": [
    {
     "data": {
      "text/plain": [
       "array([{1, 2, 3}, {4, 5, 6}, {8, 9, 7}], dtype=object)"
      ]
     },
     "execution_count": 9,
     "metadata": {},
     "output_type": "execute_result"
    }
   ],
   "source": [
    "matrica = [ {1,2,3}, {4,5,6}, {7,8,9}]\n",
    "np_matrix = np.array(matrica)\n"
   ]
  },
  {
   "cell_type": "code",
   "execution_count": null,
   "metadata": {},
   "outputs": [
    {
     "name": "stdout",
     "output_type": "stream",
     "text": [
      "[ 1  2  3  4  5  6  7  8  9 10]\n",
      "3\n",
      "[3 4 5]\n"
     ]
    }
   ],
   "source": [
    "# zemanje podatoci od 10 array\n",
    "print(np_arr)\n",
    "print(np_arr[2])\n",
    "print(np_arr[2:5])"
   ]
  },
  {
   "cell_type": "code",
   "execution_count": 20,
   "metadata": {},
   "outputs": [
    {
     "name": "stdout",
     "output_type": "stream",
     "text": [
      "[{1, 2, 3} {4, 5, 6} {8, 9, 7}]\n"
     ]
    },
    {
     "ename": "TypeError",
     "evalue": "'set' object is not subscriptable",
     "output_type": "error",
     "traceback": [
      "\u001b[1;31m---------------------------------------------------------------------------\u001b[0m",
      "\u001b[1;31mTypeError\u001b[0m                                 Traceback (most recent call last)",
      "Cell \u001b[1;32mIn[20], line 2\u001b[0m\n\u001b[0;32m      1\u001b[0m \u001b[38;5;28mprint\u001b[39m(np_matrix)\n\u001b[1;32m----> 2\u001b[0m \u001b[38;5;28mprint\u001b[39m(\u001b[43mnp_matrix\u001b[49m\u001b[43m[\u001b[49m\u001b[38;5;241;43m0\u001b[39;49m\u001b[43m]\u001b[49m\u001b[43m[\u001b[49m\u001b[38;5;241;43m0\u001b[39;49m\u001b[43m]\u001b[49m)\n",
      "\u001b[1;31mTypeError\u001b[0m: 'set' object is not subscriptable"
     ]
    }
   ],
   "source": [
    "print(np_matrix)\n",
    "print(np_matrix[0][0])"
   ]
  },
  {
   "cell_type": "code",
   "execution_count": 32,
   "metadata": {},
   "outputs": [
    {
     "data": {
      "text/plain": [
       "array([113, 305, 132, 463, 216, 284, 213, 395, 470, 314, 476, 493,  53,\n",
       "       224, 289,  78, 117, 336,  67,  66,  23, 308, 484, 216, 443, 190,\n",
       "       478, 149, 306, 211, 212, 294, 127, 101,  70, 109, 170, 259, 423,\n",
       "        40, 298,  90, 463, 426, 463, 256,  14, 294, 107, 273])"
      ]
     },
     "execution_count": 32,
     "metadata": {},
     "output_type": "execute_result"
    }
   ],
   "source": [
    "np_random_arr = np.random.randint(5, 500, size= 50)\n",
    "np_random_arr"
   ]
  },
  {
   "cell_type": "code",
   "execution_count": 38,
   "metadata": {},
   "outputs": [
    {
     "data": {
      "text/plain": [
       "array([132, 216, 284, 470, 314, 476, 224,  78, 336,  66, 308, 484, 216,\n",
       "       190, 478, 306, 212, 294,  70, 170,  40, 298,  90, 426, 256,  14,\n",
       "       294])"
      ]
     },
     "execution_count": 38,
     "metadata": {},
     "output_type": "execute_result"
    }
   ],
   "source": [
    "filter_arr = np_random_arr %2 ==0\n",
    "np_random_arr[filter_arr]\n"
   ]
  },
  {
   "cell_type": "code",
   "execution_count": 42,
   "metadata": {},
   "outputs": [
    {
     "name": "stdout",
     "output_type": "stream",
     "text": [
      "12401\n",
      "493\n",
      "14\n",
      "248.02\n"
     ]
    }
   ],
   "source": [
    "print(np_random_arr.sum())\n",
    "print(np_random_arr.max())\n",
    "print(np_random_arr.min())\n",
    "print(np_random_arr.mean())"
   ]
  },
  {
   "cell_type": "code",
   "execution_count": 43,
   "metadata": {},
   "outputs": [
    {
     "name": "stdout",
     "output_type": "stream",
     "text": [
      "Parni broevi se: [90 66 86 76 50]\n",
      "broevi nad 70 se [73 90 77 86 73 76 99]\n",
      "Najgolem broj e 99\n",
      "Najmal broj e 99\n"
     ]
    }
   ],
   "source": [
    "import numpy as np\n",
    "niza_broevi = np.random.randint (50,100, size = 10)\n",
    "parni = niza_broevi[niza_broevi % 2 == 0]\n",
    "print(f\"Parni broevi se: {parni}\")\n",
    "nad_70 = niza_broevi[niza_broevi > 70]\n",
    "print(f\"broevi nad 70 se {nad_70}\")\n",
    "najgolem_broj = np.max(niza_broevi)\n",
    "najmal_broj = np.min(niza_broevi)\n",
    "print(f\"Najgolem broj e {najgolem_broj}\")\n",
    "print(f\"Najmal broj e {najgolem_broj}\")"
   ]
  },
  {
   "cell_type": "code",
   "execution_count": 2,
   "metadata": {},
   "outputs": [
    {
     "name": "stdout",
     "output_type": "stream",
     "text": [
      "[20 31 24 81 61 37 94  7 82 81]\n",
      "[54 56  2  1 34 49 70 87 79 43]\n"
     ]
    }
   ],
   "source": [
    "rand_arr1 = np.random.randint(1, 100, size=10)\n",
    "rand_arr2 = np.random.randint(1, 100, size=10)\n",
    "print (rand_arr1)\n",
    "print (rand_arr2)"
   ]
  },
  {
   "cell_type": "code",
   "execution_count": 8,
   "metadata": {},
   "outputs": [
    {
     "name": "stdout",
     "output_type": "stream",
     "text": [
      "[3.70370370e-01 5.53571429e-01 1.20000000e+01 8.10000000e+01\n",
      " 1.79411765e+00 7.55102041e-01 1.34285714e+00 8.04597701e-02\n",
      " 1.03797468e+00 1.88372093e+00]\n"
     ]
    }
   ],
   "source": [
    "result_sum = np.add(rand_arr1, rand_arr2)\n",
    "result_substract = np.subtract(rand_arr2, rand_arr1)\n",
    "result_multiply = np.multiply(rand_arr2, rand_arr1)\n",
    "result_divide = np.divide(rand_arr1, rand_arr2)\n",
    "\n",
    "print(result_divide)"
   ]
  }
 ],
 "metadata": {
  "kernelspec": {
   "display_name": "Python 3",
   "language": "python",
   "name": "python3"
  },
  "language_info": {
   "codemirror_mode": {
    "name": "ipython",
    "version": 3
   },
   "file_extension": ".py",
   "mimetype": "text/x-python",
   "name": "python",
   "nbconvert_exporter": "python",
   "pygments_lexer": "ipython3",
   "version": "3.12.2"
  }
 },
 "nbformat": 4,
 "nbformat_minor": 2
}
